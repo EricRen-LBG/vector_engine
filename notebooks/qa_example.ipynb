{
 "cells": [
  {
   "cell_type": "markdown",
   "id": "7a961303",
   "metadata": {},
   "source": [
    "# Question-Answering with LangChain and GPT-3"
   ]
  },
  {
   "cell_type": "markdown",
   "id": "ba31ef8c",
   "metadata": {},
   "source": [
    "## Data\n",
    "\n",
    "Document Source: the content of the web portal [FOSS](https://archive.ph/o/8NCVk/https://itsfoss.com/), which specializes in Open Source technologies, with a particular focus on Linux.\n",
    "\n",
    "A list of all the articles to process can be found from the site's [sitemap-posts.xml file](https://news.itsfoss.com/sitemap-posts.xml), which contains a list of links to all the articles."
   ]
  },
  {
   "cell_type": "code",
   "execution_count": 14,
   "id": "3403d93c",
   "metadata": {},
   "outputs": [],
   "source": [
    "import os\n",
    "\n",
    "import pandas as pd\n",
    "import numpy as np\n",
    "\n",
    "import xmltodict\n",
    "import requests\n",
    "from bs4 import BeautifulSoup\n",
    "from tqdm.notebook import tqdm\n"
   ]
  },
  {
   "cell_type": "code",
   "execution_count": 2,
   "id": "75d6080c",
   "metadata": {},
   "outputs": [
    {
     "name": "stdout",
     "output_type": "stream",
     "text": [
      "Total number of articles: 986\n"
     ]
    }
   ],
   "source": [
    "r = requests.get(\"https://news.itsfoss.com/sitemap-posts.xml\")\n",
    "xml = r.text\n",
    "rss = xmltodict.parse(xml)\n",
    "\n",
    "article_links = [entry[\"loc\"] for entry in rss[\"urlset\"][\"url\"]]\n",
    "\n",
    "print(f\"Total number of articles: {len(article_links)}\")"
   ]
  },
  {
   "cell_type": "code",
   "execution_count": 3,
   "id": "aaa6f0df",
   "metadata": {},
   "outputs": [],
   "source": [
    "def extract_content(url):\n",
    "    html = requests.get(url).text\n",
    "    soup = BeautifulSoup(html, features=\"html.parser\")\n",
    "    elements = [\n",
    "        soup.select_one(\".c-topper__headline\"),\n",
    "        soup.select_one(\".c-topper__standfirst\"),\n",
    "        soup.select_one(\".c-content\"),\n",
    "        ]\n",
    "    \n",
    "    text = \"\".join([element.get_text() for element in elements])\n",
    "    \n",
    "    return text"
   ]
  },
  {
   "cell_type": "code",
   "execution_count": 11,
   "id": "9009e60c",
   "metadata": {},
   "outputs": [
    {
     "data": {
      "application/vnd.jupyter.widget-view+json": {
       "model_id": "906ccd9097e3401785c450ac56cb5639",
       "version_major": 2,
       "version_minor": 0
      },
      "text/plain": [
       "Extracting article content:   0%|          | 0/10 [00:00<?, ?it/s]"
      ]
     },
     "metadata": {},
     "output_type": "display_data"
    }
   ],
   "source": [
    "# Limited the list of articles to 10 for demo only\n",
    "articles = (\n",
    "    [{\"source\": url, \"content\": extract_content(url)}\n",
    "     for url in tqdm(article_links[0:10], desc=\"Extracting article content\")\n",
    "     ]\n",
    ")\n"
   ]
  },
  {
   "cell_type": "code",
   "execution_count": 9,
   "id": "7a6425b6",
   "metadata": {},
   "outputs": [
    {
     "data": {
      "text/plain": [
       "('https://news.itsfoss.com/warp-file-sharing/',\n",
       " \"Warp: An Open-Source Secure File Sharing App That Works Cross-PlatformA seamless way to securely share files between Linux and Windows? Try this out!\\n\\nIn our adventure with First Look series of articles, we found a secure and efficient method of transferring files between Linux and Windows systems.A tool called 'Warp', a part of GNOME Circle featuring apps that extend the GNOME ecosystem. Warp facilitates the seamless transfer of files via the Internet or across a local network.Let's take a look at it.Warp: Overview ⭐Written primarily in the Rust programming language, Warp is a GTK-based file transfer app that uses the 'Magic Wormhole' protocol to make file transfers over the internet/local networks possible.All file transfers are encrypted, and the receiver must use a word-based code to access the files, preventing any misuse.Allow me to show you how it works.When you launch the app for the first time, you are greeted with a welcome screen and a short intro to Warp.After proceeding, you are taken to the 'Send' menu, where you can select a file or folder to be sent.📋You can also drag/drop files and folders into the app.After processing, a screen will show up with the transfer code in text and QR code form. You have to send it securely to the receiver, and they can start downloading the files.📋As Warp is a cross-platform app, you can send files to and from Linux and Windows systems.Suggested Read 📖Exodia OS is a Linux Distro for Cybersecurity EnthusiastsA new alternative to Kali Linux fans. What do you think?It's FOSS NewsSourav RudraSo, how does it look on the receiver's side?Well, they must go into the 'Receive' menu and paste the transmit code into the text box. They can also scan the QR code to copy the exact text onto their device.After they paste the code and click on 'Receive File,' Warp will start connecting to the sender's device.If it is successful, you will be shown a 'Connected to Peer' status. If not, something is wrong with the sender's or receiver's system/network.After a successful connection, the receiver can either choose 'Accept' to save it to the 'Downloads' folder of the system, or they can select 'Save as' to save it in a location of their choice.Suggested Read 📖Meet ‘Clipboard’: An Open-Source App That Aims to Turn Up Your ProductivityThe clipboard app is a useful open-source tool with lots of features to improve your productivity.It's FOSS NewsSourav RudraAnd that's it. The receiver will be shown the following screen when a file transfer is complete:Users can also go into the 'Preferences' menu under the three-ribbon icon to access advanced settings such as setting the Rendezvous/Transit Server URL or setting the Code Words to a longer word count for enhanced security.That's about it for Warp; it is effortless and does the job well. Learn Rust Programming 📖Rust - It’s FOSSStart learning Rust, the programming language that is C like but better than C. No wonder Linus Torvalds liked it and allowed it to be included in Linux Kernel. The series makes you familiar with the basic Rust concepts with simple to follow examples.It's FOSS📥 Get WarpWarp is available both for Linux and Windows; You can get the package of your choice or look at the source code on its GitLab page.For Linux users, you can get it from Flathub.Warp (Flathub)\\n\\n\\nMore from It's FOSS...\\n\\nLearn Bash scripting for FREE with this Bash Tutorial series.\\nJoin our community forum.\\n📩 Stay updated with the latest on Linux and Open Source. Get our weekly Newsletter.\\n\\n\")"
      ]
     },
     "execution_count": 9,
     "metadata": {},
     "output_type": "execute_result"
    }
   ],
   "source": [
    "articles[0][\"source\"], articles[0][\"content\"]"
   ]
  },
  {
   "cell_type": "code",
   "execution_count": 15,
   "id": "b9e497d0",
   "metadata": {},
   "outputs": [
    {
     "data": {
      "text/html": [
       "<div>\n",
       "<style scoped>\n",
       "    .dataframe tbody tr th:only-of-type {\n",
       "        vertical-align: middle;\n",
       "    }\n",
       "\n",
       "    .dataframe tbody tr th {\n",
       "        vertical-align: top;\n",
       "    }\n",
       "\n",
       "    .dataframe thead th {\n",
       "        text-align: right;\n",
       "    }\n",
       "</style>\n",
       "<table border=\"1\" class=\"dataframe\">\n",
       "  <thead>\n",
       "    <tr style=\"text-align: right;\">\n",
       "      <th></th>\n",
       "      <th>source</th>\n",
       "      <th>content</th>\n",
       "    </tr>\n",
       "  </thead>\n",
       "  <tbody>\n",
       "    <tr>\n",
       "      <th>0</th>\n",
       "      <td>https://news.itsfoss.com/warp-file-sharing/</td>\n",
       "      <td>Warp: An Open-Source Secure File Sharing App T...</td>\n",
       "    </tr>\n",
       "    <tr>\n",
       "      <th>1</th>\n",
       "      <td>https://news.itsfoss.com/codecov-open-source/</td>\n",
       "      <td>Code Coverage Tool 'Codecov' Opens its Source ...</td>\n",
       "    </tr>\n",
       "    <tr>\n",
       "      <th>2</th>\n",
       "      <td>https://news.itsfoss.com/linux-steam-macos/</td>\n",
       "      <td>Linux Rising: Steam Usage Surpasses macOS for ...</td>\n",
       "    </tr>\n",
       "    <tr>\n",
       "      <th>3</th>\n",
       "      <td>https://news.itsfoss.com/fedora-asahi-remix-ap...</td>\n",
       "      <td>Fedora Asahi Remix to Bring Complete Linux Exp...</td>\n",
       "    </tr>\n",
       "    <tr>\n",
       "      <th>4</th>\n",
       "      <td>https://news.itsfoss.com/skiff-mail-review/</td>\n",
       "      <td>Skiff is a Dashing Open-Source Secure Email Al...</td>\n",
       "    </tr>\n",
       "  </tbody>\n",
       "</table>\n",
       "</div>"
      ],
      "text/plain": [
       "                                              source   \n",
       "0        https://news.itsfoss.com/warp-file-sharing/  \\\n",
       "1      https://news.itsfoss.com/codecov-open-source/   \n",
       "2        https://news.itsfoss.com/linux-steam-macos/   \n",
       "3  https://news.itsfoss.com/fedora-asahi-remix-ap...   \n",
       "4        https://news.itsfoss.com/skiff-mail-review/   \n",
       "\n",
       "                                             content  \n",
       "0  Warp: An Open-Source Secure File Sharing App T...  \n",
       "1  Code Coverage Tool 'Codecov' Opens its Source ...  \n",
       "2  Linux Rising: Steam Usage Surpasses macOS for ...  \n",
       "3  Fedora Asahi Remix to Bring Complete Linux Exp...  \n",
       "4  Skiff is a Dashing Open-Source Secure Email Al...  "
      ]
     },
     "execution_count": 15,
     "metadata": {},
     "output_type": "execute_result"
    }
   ],
   "source": [
    "articles_df = pd.DataFrame(articles)\n",
    "articles_df.head()"
   ]
  },
  {
   "cell_type": "markdown",
   "id": "1fc0cfe9",
   "metadata": {},
   "source": [
    "## Embedding"
   ]
  },
  {
   "cell_type": "markdown",
   "id": "9e7d6d3b",
   "metadata": {},
   "source": [
    "### Splitting into chunks"
   ]
  },
  {
   "cell_type": "code",
   "execution_count": 18,
   "id": "7e48c60f",
   "metadata": {},
   "outputs": [
    {
     "data": {
      "application/vnd.jupyter.widget-view+json": {
       "model_id": "2a0ae887e07c4f1b8dabd9137cbfd8e1",
       "version_major": 2,
       "version_minor": 0
      },
      "text/plain": [
       "Splitting articles into chunks:   0%|          | 0/10 [00:00<?, ?it/s]"
      ]
     },
     "metadata": {},
     "output_type": "display_data"
    }
   ],
   "source": [
    "from langchain.text_splitter import RecursiveCharacterTextSplitter\n",
    "\n",
    "rec_splitter = RecursiveCharacterTextSplitter(chunk_size=1500, chunk_overlap=150)\n",
    "\n",
    "web_docs, meta = [], []\n",
    "for article in tqdm(articles, desc=\"Splitting articles into chunks\"):\n",
    "    splits = rec_splitter.split_text(article[\"content\"])\n",
    "    web_docs.extend(splits)\n",
    "    meta.extend([{\"source\": article[\"source\"]}] * len(splits))"
   ]
  },
  {
   "cell_type": "markdown",
   "id": "1258cbc3",
   "metadata": {},
   "source": [
    "### Embedding chunks"
   ]
  },
  {
   "cell_type": "code",
   "execution_count": 19,
   "id": "6fc9a830",
   "metadata": {},
   "outputs": [],
   "source": [
    "import os\n",
    "from langchain.embeddings import OpenAIEmbeddings\n",
    "from langchain.vectorstores import FAISS\n",
    "\n",
    "# make sure the OPENAI_API_KEY environment variable has been set to be the OpenAI key \n",
    "#os.environ[\"OPENAI_API_KEY\"] = \"YOUR KEY\"\n",
    "article_store = FAISS.from_texts(\n",
    "    texts=web_docs, embedding=OpenAIEmbeddings(), metadatas=meta)\n"
   ]
  },
  {
   "cell_type": "markdown",
   "id": "6972f569",
   "metadata": {},
   "source": [
    "## Query"
   ]
  },
  {
   "cell_type": "code",
   "execution_count": 24,
   "id": "4314d18e",
   "metadata": {},
   "outputs": [],
   "source": [
    "from langchain.memory import ConversationBufferMemory\n",
    "\n",
    "memory = ConversationBufferMemory(\n",
    "    memory_key=\"chat_history\",\n",
    "    input_key=\"question\",\n",
    "    output_key=\"answer\",\n",
    "    return_messages=True,\n",
    "    )"
   ]
  },
  {
   "cell_type": "code",
   "execution_count": 25,
   "id": "c254e208",
   "metadata": {},
   "outputs": [],
   "source": [
    "from langchain import PromptTemplate\n",
    "\n",
    "template = \"\"\"You are a chatbot having a conversation with a human.\n",
    "Given the following extracted parts of a long document and a question,\n",
    "create a final answer.\n",
    "{context}\n",
    "{chat_history}\n",
    "Human: {question}\n",
    "Chatbot:\"\"\"\n",
    "\n",
    "question_prompt = PromptTemplate(\n",
    "    input_variables=[\"chat_history\", \"question\", \"context\"], \n",
    "    template=template\n",
    "    )"
   ]
  },
  {
   "cell_type": "code",
   "execution_count": 26,
   "id": "4e8d0569",
   "metadata": {},
   "outputs": [],
   "source": [
    "from langchain import OpenAI, PromptTemplate\n",
    "from langchain.chains import RetrievalQAWithSourcesChain\n",
    "\n",
    "article_chain = RetrievalQAWithSourcesChain.from_llm(\n",
    "    llm=OpenAI(temperature=0.0),\n",
    "    retriever=article_store.as_retriever(k=4),\n",
    "    memory=memory,\n",
    "    question_prompt=question_prompt,\n",
    "    )\n",
    "\n",
    "result = article_chain(\n",
    "    {\"question\": \"What is Skiff?\"},\n",
    "    return_only_outputs=True\n",
    ")"
   ]
  },
  {
   "cell_type": "code",
   "execution_count": 27,
   "id": "9b4b9cf9",
   "metadata": {},
   "outputs": [
    {
     "data": {
      "text/plain": [
       "{'answer': ' Skiff is an open-source, secure email alternative to Gmail and Proton Mail that provides two-factor authentication, the ability to block remote content, password update, recovery key, and a verification phrase to let other Skiff users verify your identity. It also offers features like Web3 integration and IPFS decentralized storage, Pages to create/store documents securely, and encrypted cloud storage with IPFS support.\\n',\n",
       " 'sources': 'https://news.itsfoss.com/skiff-mail-review/'}"
      ]
     },
     "execution_count": 27,
     "metadata": {},
     "output_type": "execute_result"
    }
   ],
   "source": [
    "result"
   ]
  },
  {
   "cell_type": "code",
   "execution_count": null,
   "id": "8b05ad27",
   "metadata": {},
   "outputs": [],
   "source": []
  }
 ],
 "metadata": {
  "kernelspec": {
   "display_name": "torch-env",
   "language": "python",
   "name": "torch-env"
  },
  "language_info": {
   "codemirror_mode": {
    "name": "ipython",
    "version": 3
   },
   "file_extension": ".py",
   "mimetype": "text/x-python",
   "name": "python",
   "nbconvert_exporter": "python",
   "pygments_lexer": "ipython3",
   "version": "3.10.12"
  },
  "toc": {
   "base_numbering": 1,
   "nav_menu": {},
   "number_sections": true,
   "sideBar": true,
   "skip_h1_title": true,
   "title_cell": "Table of Contents",
   "title_sidebar": "Contents",
   "toc_cell": false,
   "toc_position": {},
   "toc_section_display": true,
   "toc_window_display": true
  }
 },
 "nbformat": 4,
 "nbformat_minor": 5
}
